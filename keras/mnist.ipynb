{
 "cells": [
  {
   "cell_type": "markdown",
   "metadata": {},
   "source": [
    "## 擷取圖像數據"
   ]
  },
  {
   "cell_type": "code",
   "execution_count": 34,
   "metadata": {},
   "outputs": [],
   "source": [
    "import gzip\n",
    "f = gzip.open('C:/Users/user/.keras/datasets/fashion-mnist/train-images-idx3-ubyte.gz','r')\n",
    "\n",
    "image_size = 28\n",
    "num_images = 5"
   ]
  },
  {
   "cell_type": "code",
   "execution_count": 39,
   "metadata": {},
   "outputs": [
    {
     "name": "stdout",
     "output_type": "stream",
     "text": [
      "(3920,)\n",
      "=========================================\n",
      "(5, 28, 28, 1)\n"
     ]
    }
   ],
   "source": [
    "import numpy as np\n",
    "f.read(16)\n",
    "buf = f.read(image_size * image_size * num_images)\n",
    "data = np.frombuffer(buf, dtype=np.uint8).astype(np.float32)\n",
    "print(data.shape)\n",
    "data = data.reshape(num_images, image_size, image_size, 1)\n",
    "print(\"=========================================\")\n",
    "print(data.shape)"
   ]
  },
  {
   "cell_type": "markdown",
   "metadata": {},
   "source": [
    "## 打印圖像"
   ]
  },
  {
   "cell_type": "code",
   "execution_count": 40,
   "metadata": {},
   "outputs": [
    {
     "data": {
      "image/png": "[encoded data removed]",
      "text/plain": [
       "<Figure size 432x288 with 1 Axes>"
      ]
     },
     "metadata": {
      "needs_background": "light"
     },
     "output_type": "display_data"
    }
   ],
   "source": [
    "import matplotlib.pyplot as plt\n",
    "image = np.asarray(data[2]).squeeze()\n",
    "plt.imshow(image)\n",
    "plt.show()"
   ]
  },
  {
   "cell_type": "code",
   "execution_count": 28,
   "metadata": {},
   "outputs": [
    {
     "name": "stdout",
     "output_type": "stream",
     "text": [
      "     0    1    2    3    4    5    6    7     8      9   ...     18     19  \\\n",
      "0   0.0  0.0  0.0  0.0  0.0  0.0  0.0  0.0   0.0   22.0  ...   88.0    5.0   \n",
      "1   0.0  0.0  0.0  0.0  0.0  0.0  0.0  0.0  12.0  100.0  ...  142.0   85.0   \n",
      "2   0.0  0.0  0.0  0.0  0.0  0.0  0.0  0.0   0.0   85.0  ...   68.0   80.0   \n",
      "3   0.0  0.0  0.0  0.0  0.0  0.0  0.0  0.0   0.0   91.0  ...   93.0   72.0   \n",
      "4   0.0  0.0  0.0  0.0  0.0  0.0  0.0  0.0   0.0   79.0  ...   97.0   73.0   \n",
      "5   0.0  0.0  0.0  0.0  0.0  0.0  0.0  0.0   0.0   75.0  ...   96.0   72.0   \n",
      "6   0.0  0.0  0.0  0.0  0.0  0.0  0.0  0.0   0.0   77.0  ...   95.0   76.0   \n",
      "7   0.0  0.0  0.0  0.0  0.0  0.0  0.0  0.0   0.0   89.0  ...   97.0   84.0   \n",
      "8   0.0  0.0  0.0  0.0  0.0  0.0  0.0  0.0   0.0   93.0  ...   99.0   87.0   \n",
      "9   0.0  0.0  0.0  0.0  0.0  0.0  0.0  0.0   0.0   95.0  ...   92.0   87.0   \n",
      "10  0.0  0.0  0.0  0.0  0.0  0.0  0.0  0.0   0.0   97.0  ...   85.0  107.0   \n",
      "11  0.0  0.0  0.0  0.0  0.0  0.0  0.0  0.0  17.0  100.0  ...   77.0  118.0   \n",
      "12  0.0  0.0  0.0  0.0  0.0  0.0  0.0  0.0  10.0   93.0  ...   80.0  103.0   \n",
      "13  0.0  0.0  0.0  0.0  0.0  0.0  0.0  0.0   9.0   96.0  ...   87.0  103.0   \n",
      "14  0.0  0.0  0.0  0.0  0.0  0.0  0.0  0.0  12.0   96.0  ...   89.0  100.0   \n",
      "15  0.0  0.0  0.0  0.0  0.0  0.0  0.0  0.0  20.0   95.0  ...   88.0   99.0   \n",
      "16  0.0  0.0  0.0  0.0  0.0  0.0  0.0  0.0  21.0   96.0  ...   89.0   99.0   \n",
      "17  0.0  0.0  0.0  0.0  0.0  0.0  0.0  0.0  24.0   96.0  ...   91.0  102.0   \n",
      "18  0.0  0.0  0.0  0.0  0.0  0.0  0.0  0.0  25.0   93.0  ...   91.0  103.0   \n",
      "19  0.0  0.0  0.0  0.0  0.0  0.0  0.0  0.0  30.0   95.0  ...   88.0  102.0   \n",
      "20  0.0  0.0  0.0  0.0  0.0  0.0  0.0  0.0  34.0   96.0  ...   85.0   97.0   \n",
      "21  0.0  0.0  0.0  0.0  0.0  0.0  0.0  0.0  40.0   96.0  ...   84.0   92.0   \n",
      "22  0.0  0.0  0.0  0.0  0.0  0.0  0.0  0.0  46.0   95.0  ...   84.0   87.0   \n",
      "23  0.0  0.0  0.0  0.0  0.0  0.0  0.0  0.0  72.0   95.0  ...   85.0   83.0   \n",
      "24  0.0  0.0  0.0  0.0  0.0  0.0  0.0  0.0  64.0  100.0  ...   83.0   95.0   \n",
      "25  0.0  0.0  0.0  0.0  0.0  0.0  0.0  0.0  10.0  102.0  ...  108.0  106.0   \n",
      "26  0.0  0.0  0.0  0.0  0.0  0.0  0.0  0.0   0.0    8.0  ...   75.0   10.0   \n",
      "27  0.0  0.0  0.0  0.0  0.0  0.0  0.0  0.0   1.0    0.0  ...    0.0    0.0   \n",
      "\n",
      "      20   21   22   23   24   25   26   27  \n",
      "0    0.0  0.0  0.0  0.0  0.0  0.0  0.0  0.0  \n",
      "1    0.0  0.0  0.0  0.0  0.0  0.0  0.0  0.0  \n",
      "2    0.0  0.0  0.0  0.0  0.0  0.0  0.0  0.0  \n",
      "3    0.0  0.0  0.0  0.0  0.0  0.0  0.0  0.0  \n",
      "4    0.0  0.0  0.0  0.0  0.0  0.0  0.0  0.0  \n",
      "5    0.0  0.0  0.0  0.0  0.0  0.0  0.0  0.0  \n",
      "6    0.0  0.0  0.0  0.0  0.0  0.0  0.0  0.0  \n",
      "7    0.0  0.0  0.0  0.0  0.0  0.0  0.0  0.0  \n",
      "8    0.0  0.0  0.0  0.0  0.0  0.0  0.0  0.0  \n",
      "9    0.0  0.0  0.0  0.0  0.0  0.0  0.0  0.0  \n",
      "10   0.0  0.0  0.0  0.0  0.0  0.0  0.0  0.0  \n",
      "11   8.0  0.0  0.0  0.0  0.0  0.0  0.0  0.0  \n",
      "12   0.0  0.0  0.0  0.0  0.0  0.0  0.0  0.0  \n",
      "13   0.0  0.0  0.0  0.0  0.0  0.0  0.0  0.0  \n",
      "14   2.0  0.0  0.0  0.0  0.0  0.0  0.0  0.0  \n",
      "15   8.0  0.0  0.0  0.0  0.0  0.0  0.0  0.0  \n",
      "16  10.0  0.0  0.0  0.0  0.0  0.0  0.0  0.0  \n",
      "17  14.0  0.0  0.0  0.0  0.0  0.0  0.0  0.0  \n",
      "18  29.0  0.0  0.0  0.0  0.0  0.0  0.0  0.0  \n",
      "19  37.0  0.0  0.0  0.0  0.0  0.0  0.0  0.0  \n",
      "20  38.0  0.0  0.0  0.0  0.0  0.0  0.0  0.0  \n",
      "21  49.0  0.0  0.0  0.0  0.0  0.0  0.0  0.0  \n",
      "22  84.0  0.0  0.0  0.0  0.0  0.0  0.0  0.0  \n",
      "23  63.0  0.0  0.0  0.0  0.0  0.0  0.0  0.0  \n",
      "24  53.0  0.0  0.0  0.0  0.0  0.0  0.0  0.0  \n",
      "25  14.0  0.0  0.0  0.0  0.0  0.0  0.0  0.0  \n",
      "26   0.0  0.0  0.0  0.0  0.0  0.0  0.0  0.0  \n",
      "27   1.0  0.0  0.0  0.0  0.0  0.0  0.0  0.0  \n",
      "\n",
      "[28 rows x 28 columns]\n"
     ]
    }
   ],
   "source": [
    "import pandas as pd\n",
    "df = pd.DataFrame(data=image)\n",
    "print(df)"
   ]
  },
  {
   "cell_type": "markdown",
   "metadata": {},
   "source": [
    "## 打印前 50 個標籤："
   ]
  },
  {
   "cell_type": "code",
   "execution_count": 23,
   "metadata": {},
   "outputs": [
    {
     "name": "stdout",
     "output_type": "stream",
     "text": [
      "[9]\n",
      "[0]\n",
      "[0]\n",
      "[3]\n",
      "[0]\n",
      "[2]\n",
      "[7]\n",
      "[2]\n",
      "[5]\n",
      "[5]\n",
      "[0]\n",
      "[9]\n",
      "[5]\n",
      "[5]\n",
      "[7]\n",
      "[9]\n",
      "[1]\n",
      "[0]\n",
      "[6]\n",
      "[4]\n",
      "[3]\n",
      "[1]\n",
      "[4]\n",
      "[8]\n",
      "[4]\n",
      "[3]\n",
      "[0]\n",
      "[2]\n",
      "[4]\n",
      "[4]\n",
      "[5]\n",
      "[3]\n",
      "[6]\n",
      "[6]\n",
      "[0]\n",
      "[8]\n",
      "[5]\n",
      "[2]\n",
      "[1]\n",
      "[6]\n",
      "[6]\n",
      "[7]\n",
      "[9]\n",
      "[5]\n",
      "[9]\n",
      "[2]\n",
      "[7]\n",
      "[3]\n",
      "[0]\n",
      "[3]\n"
     ]
    }
   ],
   "source": [
    "f = gzip.open('C:/Users/user/.keras/datasets/fashion-mnist/train-labels-idx1-ubyte.gz','r')\n",
    "f.read(8)\n",
    "for i in range(0,50):   \n",
    "    buf = f.read(1)\n",
    "    labels = np.frombuffer(buf, dtype=np.uint8).astype(np.int64)\n",
    "    print(labels)"
   ]
  }
 ],
 "metadata": {
  "kernelspec": {
   "display_name": "Python 3.10.4 ('tf2')",
   "language": "python",
   "name": "python3"
  },
  "language_info": {
   "codemirror_mode": {
    "name": "ipython",
    "version": 3
   },
   "file_extension": ".py",
   "mimetype": "text/x-python",
   "name": "python",
   "nbconvert_exporter": "python",
   "pygments_lexer": "ipython3",
   "version": "3.10.4"
  },
  "orig_nbformat": 4,
  "vscode": {
   "interpreter": {
    "hash": "98c7dfd427db5cb08ae147fea63c68596e008b65f69fc0a8d30f42ee92ed6b70"
   }
  }
 },
 "nbformat": 4,
 "nbformat_minor": 2
}
